{
  "nbformat": 4,
  "nbformat_minor": 0,
  "metadata": {
    "colab": {
      "provenance": []
    },
    "kernelspec": {
      "name": "python3",
      "display_name": "Python 3"
    },
    "language_info": {
      "name": "python"
    }
  },
  "cells": [
    {
      "cell_type": "code",
      "execution_count": 375,
      "metadata": {
        "id": "0O_Loa7bJBli"
      },
      "outputs": [],
      "source": [
        "import pandas as pd"
      ]
    },
    {
      "cell_type": "markdown",
      "source": [
        "#PART 1"
      ],
      "metadata": {
        "id": "gek8ghWD8DwL"
      }
    },
    {
      "cell_type": "markdown",
      "source": [
        "Excercise (2.1)"
      ],
      "metadata": {
        "id": "O7LpcnnS___G"
      }
    },
    {
      "cell_type": "code",
      "source": [],
      "metadata": {
        "id": "oEX_wCJR8gVP"
      },
      "execution_count": 375,
      "outputs": []
    },
    {
      "cell_type": "code",
      "source": [
        "file_path = \"/content/CreditCard.csv\"\n",
        "df = pd.read_csv(file_path)"
      ],
      "metadata": {
        "id": "XS8Fr-4k6Wbc"
      },
      "execution_count": 376,
      "outputs": []
    },
    {
      "cell_type": "markdown",
      "source": [
        "1) and 2) Downloaded the CSV file and read it with Pandas as required"
      ],
      "metadata": {
        "id": "A9wAZapx8b_H"
      }
    },
    {
      "cell_type": "code",
      "source": [
        "df.describe()"
      ],
      "metadata": {
        "colab": {
          "base_uri": "https://localhost:8080/",
          "height": 300
        },
        "id": "QELOKAfw6zLl",
        "outputId": "edea743d-2c90-458c-9ef7-4245ee5187a9"
      },
      "execution_count": 377,
      "outputs": [
        {
          "output_type": "execute_result",
          "data": {
            "text/plain": [
              "          rownames      reports          age       income        share  \\\n",
              "count  1319.000000  1319.000000  1319.000000  1319.000000  1319.000000   \n",
              "mean    660.000000     0.456406    33.213103     3.365376     0.068732   \n",
              "std     380.906813     1.345267    10.142783     1.693902     0.094656   \n",
              "min       1.000000     0.000000     0.166667     0.210000     0.000109   \n",
              "25%     330.500000     0.000000    25.416670     2.243750     0.002316   \n",
              "50%     660.000000     0.000000    31.250000     2.900000     0.038827   \n",
              "75%     989.500000     0.000000    39.416670     4.000000     0.093617   \n",
              "max    1319.000000    14.000000    83.500000    13.500000     0.906320   \n",
              "\n",
              "       expenditure   dependents       months   majorcards       active  \n",
              "count  1319.000000  1319.000000  1319.000000  1319.000000  1319.000000  \n",
              "mean    185.057071     0.993935    55.267627     0.817286     6.996967  \n",
              "std     272.218917     1.247745    66.271746     0.386579     6.305812  \n",
              "min       0.000000     0.000000     0.000000     0.000000     0.000000  \n",
              "25%       4.583333     0.000000    12.000000     1.000000     2.000000  \n",
              "50%     101.298300     1.000000    30.000000     1.000000     6.000000  \n",
              "75%     249.035800     2.000000    72.000000     1.000000    11.000000  \n",
              "max    3099.505000     6.000000   540.000000     1.000000    46.000000  "
            ],
            "text/html": [
              "\n",
              "  <div id=\"df-42a874d3-37da-42ca-8c18-414100fd9905\" class=\"colab-df-container\">\n",
              "    <div>\n",
              "<style scoped>\n",
              "    .dataframe tbody tr th:only-of-type {\n",
              "        vertical-align: middle;\n",
              "    }\n",
              "\n",
              "    .dataframe tbody tr th {\n",
              "        vertical-align: top;\n",
              "    }\n",
              "\n",
              "    .dataframe thead th {\n",
              "        text-align: right;\n",
              "    }\n",
              "</style>\n",
              "<table border=\"1\" class=\"dataframe\">\n",
              "  <thead>\n",
              "    <tr style=\"text-align: right;\">\n",
              "      <th></th>\n",
              "      <th>rownames</th>\n",
              "      <th>reports</th>\n",
              "      <th>age</th>\n",
              "      <th>income</th>\n",
              "      <th>share</th>\n",
              "      <th>expenditure</th>\n",
              "      <th>dependents</th>\n",
              "      <th>months</th>\n",
              "      <th>majorcards</th>\n",
              "      <th>active</th>\n",
              "    </tr>\n",
              "  </thead>\n",
              "  <tbody>\n",
              "    <tr>\n",
              "      <th>count</th>\n",
              "      <td>1319.000000</td>\n",
              "      <td>1319.000000</td>\n",
              "      <td>1319.000000</td>\n",
              "      <td>1319.000000</td>\n",
              "      <td>1319.000000</td>\n",
              "      <td>1319.000000</td>\n",
              "      <td>1319.000000</td>\n",
              "      <td>1319.000000</td>\n",
              "      <td>1319.000000</td>\n",
              "      <td>1319.000000</td>\n",
              "    </tr>\n",
              "    <tr>\n",
              "      <th>mean</th>\n",
              "      <td>660.000000</td>\n",
              "      <td>0.456406</td>\n",
              "      <td>33.213103</td>\n",
              "      <td>3.365376</td>\n",
              "      <td>0.068732</td>\n",
              "      <td>185.057071</td>\n",
              "      <td>0.993935</td>\n",
              "      <td>55.267627</td>\n",
              "      <td>0.817286</td>\n",
              "      <td>6.996967</td>\n",
              "    </tr>\n",
              "    <tr>\n",
              "      <th>std</th>\n",
              "      <td>380.906813</td>\n",
              "      <td>1.345267</td>\n",
              "      <td>10.142783</td>\n",
              "      <td>1.693902</td>\n",
              "      <td>0.094656</td>\n",
              "      <td>272.218917</td>\n",
              "      <td>1.247745</td>\n",
              "      <td>66.271746</td>\n",
              "      <td>0.386579</td>\n",
              "      <td>6.305812</td>\n",
              "    </tr>\n",
              "    <tr>\n",
              "      <th>min</th>\n",
              "      <td>1.000000</td>\n",
              "      <td>0.000000</td>\n",
              "      <td>0.166667</td>\n",
              "      <td>0.210000</td>\n",
              "      <td>0.000109</td>\n",
              "      <td>0.000000</td>\n",
              "      <td>0.000000</td>\n",
              "      <td>0.000000</td>\n",
              "      <td>0.000000</td>\n",
              "      <td>0.000000</td>\n",
              "    </tr>\n",
              "    <tr>\n",
              "      <th>25%</th>\n",
              "      <td>330.500000</td>\n",
              "      <td>0.000000</td>\n",
              "      <td>25.416670</td>\n",
              "      <td>2.243750</td>\n",
              "      <td>0.002316</td>\n",
              "      <td>4.583333</td>\n",
              "      <td>0.000000</td>\n",
              "      <td>12.000000</td>\n",
              "      <td>1.000000</td>\n",
              "      <td>2.000000</td>\n",
              "    </tr>\n",
              "    <tr>\n",
              "      <th>50%</th>\n",
              "      <td>660.000000</td>\n",
              "      <td>0.000000</td>\n",
              "      <td>31.250000</td>\n",
              "      <td>2.900000</td>\n",
              "      <td>0.038827</td>\n",
              "      <td>101.298300</td>\n",
              "      <td>1.000000</td>\n",
              "      <td>30.000000</td>\n",
              "      <td>1.000000</td>\n",
              "      <td>6.000000</td>\n",
              "    </tr>\n",
              "    <tr>\n",
              "      <th>75%</th>\n",
              "      <td>989.500000</td>\n",
              "      <td>0.000000</td>\n",
              "      <td>39.416670</td>\n",
              "      <td>4.000000</td>\n",
              "      <td>0.093617</td>\n",
              "      <td>249.035800</td>\n",
              "      <td>2.000000</td>\n",
              "      <td>72.000000</td>\n",
              "      <td>1.000000</td>\n",
              "      <td>11.000000</td>\n",
              "    </tr>\n",
              "    <tr>\n",
              "      <th>max</th>\n",
              "      <td>1319.000000</td>\n",
              "      <td>14.000000</td>\n",
              "      <td>83.500000</td>\n",
              "      <td>13.500000</td>\n",
              "      <td>0.906320</td>\n",
              "      <td>3099.505000</td>\n",
              "      <td>6.000000</td>\n",
              "      <td>540.000000</td>\n",
              "      <td>1.000000</td>\n",
              "      <td>46.000000</td>\n",
              "    </tr>\n",
              "  </tbody>\n",
              "</table>\n",
              "</div>\n",
              "    <div class=\"colab-df-buttons\">\n",
              "\n",
              "  <div class=\"colab-df-container\">\n",
              "    <button class=\"colab-df-convert\" onclick=\"convertToInteractive('df-42a874d3-37da-42ca-8c18-414100fd9905')\"\n",
              "            title=\"Convert this dataframe to an interactive table.\"\n",
              "            style=\"display:none;\">\n",
              "\n",
              "  <svg xmlns=\"http://www.w3.org/2000/svg\" height=\"24px\" viewBox=\"0 -960 960 960\">\n",
              "    <path d=\"M120-120v-720h720v720H120Zm60-500h600v-160H180v160Zm220 220h160v-160H400v160Zm0 220h160v-160H400v160ZM180-400h160v-160H180v160Zm440 0h160v-160H620v160ZM180-180h160v-160H180v160Zm440 0h160v-160H620v160Z\"/>\n",
              "  </svg>\n",
              "    </button>\n",
              "\n",
              "  <style>\n",
              "    .colab-df-container {\n",
              "      display:flex;\n",
              "      gap: 12px;\n",
              "    }\n",
              "\n",
              "    .colab-df-convert {\n",
              "      background-color: #E8F0FE;\n",
              "      border: none;\n",
              "      border-radius: 50%;\n",
              "      cursor: pointer;\n",
              "      display: none;\n",
              "      fill: #1967D2;\n",
              "      height: 32px;\n",
              "      padding: 0 0 0 0;\n",
              "      width: 32px;\n",
              "    }\n",
              "\n",
              "    .colab-df-convert:hover {\n",
              "      background-color: #E2EBFA;\n",
              "      box-shadow: 0px 1px 2px rgba(60, 64, 67, 0.3), 0px 1px 3px 1px rgba(60, 64, 67, 0.15);\n",
              "      fill: #174EA6;\n",
              "    }\n",
              "\n",
              "    .colab-df-buttons div {\n",
              "      margin-bottom: 4px;\n",
              "    }\n",
              "\n",
              "    [theme=dark] .colab-df-convert {\n",
              "      background-color: #3B4455;\n",
              "      fill: #D2E3FC;\n",
              "    }\n",
              "\n",
              "    [theme=dark] .colab-df-convert:hover {\n",
              "      background-color: #434B5C;\n",
              "      box-shadow: 0px 1px 3px 1px rgba(0, 0, 0, 0.15);\n",
              "      filter: drop-shadow(0px 1px 2px rgba(0, 0, 0, 0.3));\n",
              "      fill: #FFFFFF;\n",
              "    }\n",
              "  </style>\n",
              "\n",
              "    <script>\n",
              "      const buttonEl =\n",
              "        document.querySelector('#df-42a874d3-37da-42ca-8c18-414100fd9905 button.colab-df-convert');\n",
              "      buttonEl.style.display =\n",
              "        google.colab.kernel.accessAllowed ? 'block' : 'none';\n",
              "\n",
              "      async function convertToInteractive(key) {\n",
              "        const element = document.querySelector('#df-42a874d3-37da-42ca-8c18-414100fd9905');\n",
              "        const dataTable =\n",
              "          await google.colab.kernel.invokeFunction('convertToInteractive',\n",
              "                                                    [key], {});\n",
              "        if (!dataTable) return;\n",
              "\n",
              "        const docLinkHtml = 'Like what you see? Visit the ' +\n",
              "          '<a target=\"_blank\" href=https://colab.research.google.com/notebooks/data_table.ipynb>data table notebook</a>'\n",
              "          + ' to learn more about interactive tables.';\n",
              "        element.innerHTML = '';\n",
              "        dataTable['output_type'] = 'display_data';\n",
              "        await google.colab.output.renderOutput(dataTable, element);\n",
              "        const docLink = document.createElement('div');\n",
              "        docLink.innerHTML = docLinkHtml;\n",
              "        element.appendChild(docLink);\n",
              "      }\n",
              "    </script>\n",
              "  </div>\n",
              "\n",
              "\n",
              "<div id=\"df-ed5b4beb-5ae8-499c-aae9-7e464a58a867\">\n",
              "  <button class=\"colab-df-quickchart\" onclick=\"quickchart('df-ed5b4beb-5ae8-499c-aae9-7e464a58a867')\"\n",
              "            title=\"Suggest charts\"\n",
              "            style=\"display:none;\">\n",
              "\n",
              "<svg xmlns=\"http://www.w3.org/2000/svg\" height=\"24px\"viewBox=\"0 0 24 24\"\n",
              "     width=\"24px\">\n",
              "    <g>\n",
              "        <path d=\"M19 3H5c-1.1 0-2 .9-2 2v14c0 1.1.9 2 2 2h14c1.1 0 2-.9 2-2V5c0-1.1-.9-2-2-2zM9 17H7v-7h2v7zm4 0h-2V7h2v10zm4 0h-2v-4h2v4z\"/>\n",
              "    </g>\n",
              "</svg>\n",
              "  </button>\n",
              "\n",
              "<style>\n",
              "  .colab-df-quickchart {\n",
              "      --bg-color: #E8F0FE;\n",
              "      --fill-color: #1967D2;\n",
              "      --hover-bg-color: #E2EBFA;\n",
              "      --hover-fill-color: #174EA6;\n",
              "      --disabled-fill-color: #AAA;\n",
              "      --disabled-bg-color: #DDD;\n",
              "  }\n",
              "\n",
              "  [theme=dark] .colab-df-quickchart {\n",
              "      --bg-color: #3B4455;\n",
              "      --fill-color: #D2E3FC;\n",
              "      --hover-bg-color: #434B5C;\n",
              "      --hover-fill-color: #FFFFFF;\n",
              "      --disabled-bg-color: #3B4455;\n",
              "      --disabled-fill-color: #666;\n",
              "  }\n",
              "\n",
              "  .colab-df-quickchart {\n",
              "    background-color: var(--bg-color);\n",
              "    border: none;\n",
              "    border-radius: 50%;\n",
              "    cursor: pointer;\n",
              "    display: none;\n",
              "    fill: var(--fill-color);\n",
              "    height: 32px;\n",
              "    padding: 0;\n",
              "    width: 32px;\n",
              "  }\n",
              "\n",
              "  .colab-df-quickchart:hover {\n",
              "    background-color: var(--hover-bg-color);\n",
              "    box-shadow: 0 1px 2px rgba(60, 64, 67, 0.3), 0 1px 3px 1px rgba(60, 64, 67, 0.15);\n",
              "    fill: var(--button-hover-fill-color);\n",
              "  }\n",
              "\n",
              "  .colab-df-quickchart-complete:disabled,\n",
              "  .colab-df-quickchart-complete:disabled:hover {\n",
              "    background-color: var(--disabled-bg-color);\n",
              "    fill: var(--disabled-fill-color);\n",
              "    box-shadow: none;\n",
              "  }\n",
              "\n",
              "  .colab-df-spinner {\n",
              "    border: 2px solid var(--fill-color);\n",
              "    border-color: transparent;\n",
              "    border-bottom-color: var(--fill-color);\n",
              "    animation:\n",
              "      spin 1s steps(1) infinite;\n",
              "  }\n",
              "\n",
              "  @keyframes spin {\n",
              "    0% {\n",
              "      border-color: transparent;\n",
              "      border-bottom-color: var(--fill-color);\n",
              "      border-left-color: var(--fill-color);\n",
              "    }\n",
              "    20% {\n",
              "      border-color: transparent;\n",
              "      border-left-color: var(--fill-color);\n",
              "      border-top-color: var(--fill-color);\n",
              "    }\n",
              "    30% {\n",
              "      border-color: transparent;\n",
              "      border-left-color: var(--fill-color);\n",
              "      border-top-color: var(--fill-color);\n",
              "      border-right-color: var(--fill-color);\n",
              "    }\n",
              "    40% {\n",
              "      border-color: transparent;\n",
              "      border-right-color: var(--fill-color);\n",
              "      border-top-color: var(--fill-color);\n",
              "    }\n",
              "    60% {\n",
              "      border-color: transparent;\n",
              "      border-right-color: var(--fill-color);\n",
              "    }\n",
              "    80% {\n",
              "      border-color: transparent;\n",
              "      border-right-color: var(--fill-color);\n",
              "      border-bottom-color: var(--fill-color);\n",
              "    }\n",
              "    90% {\n",
              "      border-color: transparent;\n",
              "      border-bottom-color: var(--fill-color);\n",
              "    }\n",
              "  }\n",
              "</style>\n",
              "\n",
              "  <script>\n",
              "    async function quickchart(key) {\n",
              "      const quickchartButtonEl =\n",
              "        document.querySelector('#' + key + ' button');\n",
              "      quickchartButtonEl.disabled = true;  // To prevent multiple clicks.\n",
              "      quickchartButtonEl.classList.add('colab-df-spinner');\n",
              "      try {\n",
              "        const charts = await google.colab.kernel.invokeFunction(\n",
              "            'suggestCharts', [key], {});\n",
              "      } catch (error) {\n",
              "        console.error('Error during call to suggestCharts:', error);\n",
              "      }\n",
              "      quickchartButtonEl.classList.remove('colab-df-spinner');\n",
              "      quickchartButtonEl.classList.add('colab-df-quickchart-complete');\n",
              "    }\n",
              "    (() => {\n",
              "      let quickchartButtonEl =\n",
              "        document.querySelector('#df-ed5b4beb-5ae8-499c-aae9-7e464a58a867 button');\n",
              "      quickchartButtonEl.style.display =\n",
              "        google.colab.kernel.accessAllowed ? 'block' : 'none';\n",
              "    })();\n",
              "  </script>\n",
              "</div>\n",
              "\n",
              "    </div>\n",
              "  </div>\n"
            ],
            "application/vnd.google.colaboratory.intrinsic+json": {
              "type": "dataframe",
              "summary": "{\n  \"name\": \"df\",\n  \"rows\": 8,\n  \"fields\": [\n    {\n      \"column\": \"rownames\",\n      \"properties\": {\n        \"dtype\": \"number\",\n        \"std\": 475.0692218541999,\n        \"min\": 1.0,\n        \"max\": 1319.0,\n        \"num_unique_values\": 6,\n        \"samples\": [\n          1319.0,\n          660.0,\n          989.5\n        ],\n        \"semantic_type\": \"\",\n        \"description\": \"\"\n      }\n    },\n    {\n      \"column\": \"reports\",\n      \"properties\": {\n        \"dtype\": \"number\",\n        \"std\": 465.5637258035287,\n        \"min\": 0.0,\n        \"max\": 1319.0,\n        \"num_unique_values\": 5,\n        \"samples\": [\n          0.4564063684609553,\n          14.0,\n          1.3452674780113116\n        ],\n        \"semantic_type\": \"\",\n        \"description\": \"\"\n      }\n    },\n    {\n      \"column\": \"age\",\n      \"properties\": {\n        \"dtype\": \"number\",\n        \"std\": 455.7339738343801,\n        \"min\": 0.1666667,\n        \"max\": 1319.0,\n        \"num_unique_values\": 8,\n        \"samples\": [\n          33.21310325496589,\n          31.25,\n          1319.0\n        ],\n        \"semantic_type\": \"\",\n        \"description\": \"\"\n      }\n    },\n    {\n      \"column\": \"income\",\n      \"properties\": {\n        \"dtype\": \"number\",\n        \"std\": 464.94471184714445,\n        \"min\": 0.21,\n        \"max\": 1319.0,\n        \"num_unique_values\": 8,\n        \"samples\": [\n          3.3653760424564068,\n          2.9,\n          1319.0\n        ],\n        \"semantic_type\": \"\",\n        \"description\": \"\"\n      }\n    },\n    {\n      \"column\": \"share\",\n      \"properties\": {\n        \"dtype\": \"number\",\n        \"std\": 466.2761796002524,\n        \"min\": 0.0001090909,\n        \"max\": 1319.0,\n        \"num_unique_values\": 8,\n        \"samples\": [\n          0.06873217313987869,\n          0.03882722,\n          1319.0\n        ],\n        \"semantic_type\": \"\",\n        \"description\": \"\"\n      }\n    },\n    {\n      \"column\": \"expenditure\",\n      \"properties\": {\n        \"dtype\": \"number\",\n        \"std\": 1076.1914951033007,\n        \"min\": 0.0,\n        \"max\": 3099.505,\n        \"num_unique_values\": 8,\n        \"samples\": [\n          185.05707077839273,\n          101.2983,\n          1319.0\n        ],\n        \"semantic_type\": \"\",\n        \"description\": \"\"\n      }\n    },\n    {\n      \"column\": \"dependents\",\n      \"properties\": {\n        \"dtype\": \"number\",\n        \"std\": 465.77304082866954,\n        \"min\": 0.0,\n        \"max\": 1319.0,\n        \"num_unique_values\": 7,\n        \"samples\": [\n          1319.0,\n          0.9939347990902199,\n          2.0\n        ],\n        \"semantic_type\": \"\",\n        \"description\": \"\"\n      }\n    },\n    {\n      \"column\": \"months\",\n      \"properties\": {\n        \"dtype\": \"number\",\n        \"std\": 462.3926218164085,\n        \"min\": 0.0,\n        \"max\": 1319.0,\n        \"num_unique_values\": 8,\n        \"samples\": [\n          55.26762699014405,\n          30.0,\n          1319.0\n        ],\n        \"semantic_type\": \"\",\n        \"description\": \"\"\n      }\n    },\n    {\n      \"column\": \"majorcards\",\n      \"properties\": {\n        \"dtype\": \"number\",\n        \"std\": 466.0742327574528,\n        \"min\": 0.0,\n        \"max\": 1319.0,\n        \"num_unique_values\": 5,\n        \"samples\": [\n          0.8172858225928734,\n          1.0,\n          0.3865785909932452\n        ],\n        \"semantic_type\": \"\",\n        \"description\": \"\"\n      }\n    },\n    {\n      \"column\": \"active\",\n      \"properties\": {\n        \"dtype\": \"number\",\n        \"std\": 462.61212363820243,\n        \"min\": 0.0,\n        \"max\": 1319.0,\n        \"num_unique_values\": 8,\n        \"samples\": [\n          6.99696739954511,\n          6.0,\n          1319.0\n        ],\n        \"semantic_type\": \"\",\n        \"description\": \"\"\n      }\n    }\n  ]\n}"
            }
          },
          "metadata": {},
          "execution_count": 377
        }
      ]
    },
    {
      "cell_type": "markdown",
      "source": [
        "3) As seen above, described the dataset."
      ],
      "metadata": {
        "id": "cu9owovr8XOx"
      }
    },
    {
      "cell_type": "code",
      "source": [
        "rows, columns = df.shape\n",
        "print(f\"Number of rows : {rows}\")\n",
        "print(f\"number of columns : {columns}\")"
      ],
      "metadata": {
        "colab": {
          "base_uri": "https://localhost:8080/"
        },
        "id": "4qXB5_0d7nB6",
        "outputId": "63156773-b524-4f12-c76c-18bd6b8708f4"
      },
      "execution_count": 378,
      "outputs": [
        {
          "output_type": "stream",
          "name": "stdout",
          "text": [
            "Number of rows : 1319\n",
            "number of columns : 13\n"
          ]
        }
      ]
    },
    {
      "cell_type": "markdown",
      "source": [
        "4) This dataset has 1319 rows and 13 columns"
      ],
      "metadata": {
        "id": "1otdW4ed8Ln6"
      }
    },
    {
      "cell_type": "code",
      "source": [
        "from sklearn.model_selection import train_test_split"
      ],
      "metadata": {
        "id": "v6CCrhNN8Pna"
      },
      "execution_count": 379,
      "outputs": []
    },
    {
      "cell_type": "code",
      "source": [
        "seed = 143"
      ],
      "metadata": {
        "id": "7dGcNbT79Crw"
      },
      "execution_count": 380,
      "outputs": []
    },
    {
      "cell_type": "code",
      "source": [
        "train_df, test_df = train_test_split(df, test_size=0.4, random_state=seed)\n",
        "print(f\"Training set size: {train_df.shape}\")\n",
        "print(f\"Validation test size: {test_df.shape}\")"
      ],
      "metadata": {
        "colab": {
          "base_uri": "https://localhost:8080/"
        },
        "id": "-qUH9Pgy9RSc",
        "outputId": "1354bf5d-9731-4ea9-8142-5a0577fe289c"
      },
      "execution_count": 381,
      "outputs": [
        {
          "output_type": "stream",
          "name": "stdout",
          "text": [
            "Training set size: (791, 13)\n",
            "Validation test size: (528, 13)\n"
          ]
        }
      ]
    },
    {
      "cell_type": "markdown",
      "source": [
        "5) As seen above, we have split the dataset into training and testing."
      ],
      "metadata": {
        "id": "P0Y1Kxtg_Ana"
      }
    },
    {
      "cell_type": "markdown",
      "source": [
        "6) Partitioning the data before conducting in-depth analysis is important for several reasons:\n",
        "\n",
        "a) Prevents Data Leakage:\n",
        "\n",
        "- If we analyze the entire dataset before splitting, we might unconsciously use insights from the validation/test set to influence model selection, leading to overfitting.\n",
        "\n",
        "b) Ensures Fair Model Evaluation:\n",
        "\n",
        "- By keeping a separate validation set, we can evaluate how well our model generalizes to unseen data, preventing an overly optimistic estimate of performance.\n",
        "\n",
        "c) Mimics Real-World Scenarios:\n",
        "\n",
        "- In practice, models are deployed on new data. Partitioning ensures that our model is trained on past data while being tested on unseen data, similar to real-world usage.\n",
        "\n",
        "d) Prevents Bias in Feature Selection & Data Preprocessing:\n",
        "\n",
        "- If feature engineering or transformations (like scaling, encoding, or outlier removal) are done on the full dataset, they may be influenced by the test set, leading to biased results.\n",
        "\n",
        "e) Aids in Hyperparameter Tuning & Model Selection:\n",
        "\n",
        "- With a validation set, we can fine-tune hyperparameters and compare models without touching the test set. This ensures that the final model evaluation is unbiased.\n",
        "\n",
        "f) Reduces the Risk of Overfitting:\n",
        "\n",
        "- If we use the same data for both training and testing, the model might memorize patterns instead of generalizing well to new data."
      ],
      "metadata": {
        "id": "M7rQEFTk_LGn"
      }
    },
    {
      "cell_type": "markdown",
      "source": [
        "\n",
        "\n",
        "---\n",
        "\n"
      ],
      "metadata": {
        "id": "s3urp1YnADPv"
      }
    },
    {
      "cell_type": "markdown",
      "source": [
        "Excercise (2.1.1) Drilling Further"
      ],
      "metadata": {
        "id": "DOA5XJkcAD4_"
      }
    },
    {
      "cell_type": "code",
      "source": [
        "import matplotlib.pyplot as plt\n",
        "import seaborn as sns\n",
        "import numpy as np"
      ],
      "metadata": {
        "id": "-CgrCiSlAIbz"
      },
      "execution_count": 382,
      "outputs": []
    },
    {
      "cell_type": "code",
      "source": [
        "x = train_df['dependents']\n",
        "y = train_df['income']\n",
        "\n",
        "\n",
        "plt.figure(figsize=(8, 5))\n",
        "sns.scatterplot(x=x, y=y, alpha=0.5, color='blue', label=\"Data Points\")\n",
        "\n",
        "\n",
        "m, b = np.polyfit(x, y, 1)  # Linear regression (y = mx + b)\n",
        "plt.plot(x, m*x + b, color='red', label=\"Best-Fit Line\")\n",
        "\n",
        "\n",
        "plt.xlabel(\"Number of Dependents\")\n",
        "plt.ylabel(\"Income (in $10,000s)\")\n",
        "plt.title(\"Scatter Plot of Income vs. Dependents (Training Set)\")\n",
        "plt.legend()\n",
        "plt.show()"
      ],
      "metadata": {
        "colab": {
          "base_uri": "https://localhost:8080/",
          "height": 487
        },
        "id": "sIeox2O5Abl-",
        "outputId": "a8dad901-a510-4790-fa41-3c81bfac0271"
      },
      "execution_count": 383,
      "outputs": [
        {
          "output_type": "display_data",
          "data": {
            "text/plain": [
              "<Figure size 800x500 with 1 Axes>"
            ],
            "image/png": "[encoded data removed]"
          },
          "metadata": {}
        }
      ]
    },
    {
      "cell_type": "markdown",
      "source": [
        "Weak or No Strong Relationship:\n",
        "\n",
        "- This makes sense because the number of dependents is not necessarily a direct predictor of income.\n",
        "Other factors like education, job type, and experience likely play a bigger role in determining income.\n",
        "\n",
        "Possible Explanation for Slight Positive Trend:\n",
        "\n",
        "- People with more dependents might be older and further along in their careers, leading to slightly higher incomes.\n",
        "\n",
        "Conclusion:\n",
        "\n",
        "- The weak positive trend suggests having more dependents does not strongly impact income, but there might be a small effect due to career progression.\n",
        "This aligns with real-world expectations, where income is influenced by multiple factors, not just dependents."
      ],
      "metadata": {
        "id": "OoGukt3cFZPV"
      }
    },
    {
      "cell_type": "code",
      "source": [
        "import scipy.stats as stats"
      ],
      "metadata": {
        "id": "u_9J7dkJGH5v"
      },
      "execution_count": 384,
      "outputs": []
    },
    {
      "cell_type": "code",
      "source": [
        "correlation = train_df['income'].corr(train_df['dependents'])\n",
        "print(f\"Correlation between income and dependents: {correlation:.4f}\")"
      ],
      "metadata": {
        "colab": {
          "base_uri": "https://localhost:8080/"
        },
        "id": "ZvgKqH7gGKHo",
        "outputId": "88f41195-c0b7-4c7a-f833-9c6e6870e423"
      },
      "execution_count": 385,
      "outputs": [
        {
          "output_type": "stream",
          "name": "stdout",
          "text": [
            "Correlation between income and dependents: 0.3572\n"
          ]
        }
      ]
    },
    {
      "cell_type": "markdown",
      "source": [
        "4)1)\n",
        "- The correlation coefficient (r) is 0.3572, indicating a positive relationship between income and dependents.\n",
        "- This means that as the number of dependents increases, income tends to increase as well.\n",
        "\n",
        "4)2)\n",
        "- 0.3572 suggests a moderate correlation (between 0.3 and 0.7).\n",
        "- It’s not very strong, but there is a noticeable relationship."
      ],
      "metadata": {
        "id": "9-jLL490H8zz"
      }
    },
    {
      "cell_type": "code",
      "source": [
        "corr_test = stats.pearsonr(train_df['income'], train_df['dependents'])\n",
        "print(f\"P-value: {corr_test.pvalue:.4f}\")"
      ],
      "metadata": {
        "colab": {
          "base_uri": "https://localhost:8080/"
        },
        "id": "3czonRzUHdOs",
        "outputId": "be3dcb7b-c7b3-4c40-e336-27473440c0b0"
      },
      "execution_count": 386,
      "outputs": [
        {
          "output_type": "stream",
          "name": "stdout",
          "text": [
            "P-value: 0.0000\n"
          ]
        }
      ]
    },
    {
      "cell_type": "markdown",
      "source": [
        "4)3)\n",
        "- The p-value is 0.0000, which is less than 0.05, meaning the correlation is statistically significant.\n",
        "- This suggests that the relationship is unlikely due to random chance.\n",
        "\n",
        "Possible Explanation:\n",
        "\n",
        "- People with more dependents might be older, have more work experience, and thus earn higher incomes.\n",
        "- However, correlation does not imply causation—other factors like education, job type, and career stage could also be influencing income."
      ],
      "metadata": {
        "id": "uH4-hxOBIQkY"
      }
    },
    {
      "cell_type": "code",
      "source": [
        "import statsmodels.api as sm"
      ],
      "metadata": {
        "id": "UApxtbpYIkwW"
      },
      "execution_count": 387,
      "outputs": []
    },
    {
      "cell_type": "code",
      "source": [
        "X = train_df[['dependents']]\n",
        "X = sm.add_constant(X)\n",
        "y = train_df['income']\n",
        "#regression model\n",
        "model = sm.OLS(y, X).fit()\n",
        "print(model.summary())\n"
      ],
      "metadata": {
        "colab": {
          "base_uri": "https://localhost:8080/"
        },
        "id": "Ep_xLjjjIr5G",
        "outputId": "cb7385dd-0597-4f22-893b-1f6236b9310e"
      },
      "execution_count": 388,
      "outputs": [
        {
          "output_type": "stream",
          "name": "stdout",
          "text": [
            "                            OLS Regression Results                            \n",
            "==============================================================================\n",
            "Dep. Variable:                 income   R-squared:                       0.128\n",
            "Model:                            OLS   Adj. R-squared:                  0.126\n",
            "Method:                 Least Squares   F-statistic:                     115.4\n",
            "Date:                Fri, 21 Feb 2025   Prob (F-statistic):           3.27e-25\n",
            "Time:                        23:50:16   Log-Likelihood:                -1514.8\n",
            "No. Observations:                 791   AIC:                             3034.\n",
            "Df Residuals:                     789   BIC:                             3043.\n",
            "Df Model:                           1                                         \n",
            "Covariance Type:            nonrobust                                         \n",
            "==============================================================================\n",
            "                 coef    std err          t      P>|t|      [0.025      0.975]\n",
            "------------------------------------------------------------------------------\n",
            "const          2.8754      0.074     38.655      0.000       2.729       3.021\n",
            "dependents     0.4914      0.046     10.741      0.000       0.402       0.581\n",
            "==============================================================================\n",
            "Omnibus:                      317.616   Durbin-Watson:                   1.974\n",
            "Prob(Omnibus):                  0.000   Jarque-Bera (JB):             1318.486\n",
            "Skew:                           1.864   Prob(JB):                    4.95e-287\n",
            "Kurtosis:                       8.109   Cond. No.                         2.44\n",
            "==============================================================================\n",
            "\n",
            "Notes:\n",
            "[1] Standard Errors assume that the covariance matrix of the errors is correctly specified.\n"
          ]
        }
      ]
    },
    {
      "cell_type": "markdown",
      "source": [
        "5)\n",
        "- As seen above, using the training dataset, a linear regression model has been created.\n",
        "\n",
        "- The model shows a statistically significant but weak relationship between income and dependents.\n",
        "\n",
        "- While having more dependents slightly increases income, the effect is not very strong.\n",
        "\n",
        "- This makes sense intuitively—income is determined by many other factors beyond dependents."
      ],
      "metadata": {
        "id": "glSfrjfbJVy1"
      }
    },
    {
      "cell_type": "code",
      "source": [
        "residuals = model.resid\n",
        "min_residual = residuals.min()\n",
        "max_residual = residuals.max()\n",
        "\n",
        "print(f\"Minimum (most negative) residual: {min_residual:.4f}\")\n",
        "print(f\"Maximum (most positive) residual: {max_residual:.4f}\")"
      ],
      "metadata": {
        "colab": {
          "base_uri": "https://localhost:8080/"
        },
        "id": "9V58RVIYJvqM",
        "outputId": "779b945b-8f1b-4e8c-88f7-5c202feccbe5"
      },
      "execution_count": 389,
      "outputs": [
        {
          "output_type": "stream",
          "name": "stdout",
          "text": [
            "Minimum (most negative) residual: -3.3682\n",
            "Maximum (most positive) residual: 9.1331\n"
          ]
        }
      ]
    },
    {
      "cell_type": "markdown",
      "source": [
        "6) The most negative residual value is -3.3682 and the most positive residual value is 9.1331"
      ],
      "metadata": {
        "id": "w1wvnMZZKQ1f"
      }
    },
    {
      "cell_type": "code",
      "source": [
        "train_df['predicted_income'] = model.predict(X)\n",
        "\n",
        "\n",
        "train_df['residuals'] = train_df['income'] - train_df['predicted_income']\n",
        "\n",
        "#observation with the highest residual\n",
        "max_residual_index = train_df['residuals'].idxmax()\n",
        "max_residual_row = train_df.loc[max_residual_index]\n",
        "\n",
        "\n",
        "actual_income = max_residual_row['income']\n",
        "predicted_income = max_residual_row['predicted_income']\n",
        "highest_residual = max_residual_row['residuals']\n",
        "\n",
        "\n",
        "print(f\"Observation with highest residual: {max_residual_index}\")\n",
        "print(f\"Actual Income: {actual_income:.4f}\")\n",
        "print(f\"Predicted Income: {predicted_income:.4f}\")\n",
        "print(f\"Highest Residual (Actual - Predicted): {highest_residual:.4f}\")\n"
      ],
      "metadata": {
        "colab": {
          "base_uri": "https://localhost:8080/"
        },
        "id": "LPb8LUV0KRau",
        "outputId": "cb6585f4-433a-4d7a-cb12-b5bac0300cdb"
      },
      "execution_count": 390,
      "outputs": [
        {
          "output_type": "stream",
          "name": "stdout",
          "text": [
            "Observation with highest residual: 446\n",
            "Actual Income: 12.4999\n",
            "Predicted Income: 3.3668\n",
            "Highest Residual (Actual - Predicted): 9.1331\n"
          ]
        }
      ]
    },
    {
      "cell_type": "markdown",
      "source": [
        "7) ABove we can observe the model's predictions.\n",
        "- Here, it the residual value was calculated by:- Residual=Actual Income−Predicted Income\n",
        "\n",
        "- The model underestimated this person’s income by $91,331.\n",
        "- This suggests that dependents alone are not a strong predictor of income.\n",
        "- There might be other factors (education, job type, industry, experience) that explain their high income.\n",
        "\n"
      ],
      "metadata": {
        "id": "2mkvK4LmLXEm"
      }
    },
    {
      "cell_type": "code",
      "source": [
        "min_residual_index = train_df['residuals'].idxmin()\n",
        "min_residual_row = train_df.loc[min_residual_index]\n",
        "\n",
        "actual_income_min = min_residual_row['income']\n",
        "predicted_income_min = min_residual_row['predicted_income']\n",
        "lowest_residual = min_residual_row['residuals']\n",
        "\n",
        "print(f\"Observation with lowest residual: {min_residual_index}\")\n",
        "print(f\"Actual Income: {actual_income_min:.4f}\")\n",
        "print(f\"Predicted Income: {predicted_income_min:.4f}\")\n",
        "print(f\"Lowest Residual (Actual - Predicted): {lowest_residual:.4f}\")"
      ],
      "metadata": {
        "colab": {
          "base_uri": "https://localhost:8080/"
        },
        "id": "Wk9rD4M5Lrq8",
        "outputId": "2bbcffc8-f441-4ec3-fa65-658de54534e6"
      },
      "execution_count": 391,
      "outputs": [
        {
          "output_type": "stream",
          "name": "stdout",
          "text": [
            "Observation with lowest residual: 1225\n",
            "Actual Income: 0.4900\n",
            "Predicted Income: 3.8582\n",
            "Lowest Residual (Actual - Predicted): -3.3682\n"
          ]
        }
      ]
    },
    {
      "cell_type": "markdown",
      "source": [
        "8) Above, we can observe the model's predictions.\n",
        "\n",
        "- Here, residual was calculated by:- Residual=Actual Income−Predicted Income\n",
        "\n",
        "- The model overestimated this person's income by $33,682.\n",
        "- This suggests that dependents alone are not a strong predictor of income.\n",
        "- There might be other factors that explain their lower-than-expected income, such as job type, employment status, or education level."
      ],
      "metadata": {
        "id": "6uwGXQHZMRcO"
      }
    },
    {
      "cell_type": "markdown",
      "source": [
        "9) Dependents might be a reasonable starting point for predicting income because, in some cases, individuals with more dependents may be further along in their careers, have more financial responsibilities, and thus earn higher incomes.\n",
        "\n",
        "However, dependents alone are not a strong predictor of income because many other factors play a significant role in determining earnings. For example Job type and Industry, their education and experience or maybe their emplyment location.\n",
        "\n",
        "Because of these missing factors, the model sometimes overestimates or underestimates income by large amounts."
      ],
      "metadata": {
        "id": "u-9qH8fWM2Dl"
      }
    },
    {
      "cell_type": "markdown",
      "source": [
        "#Part 2"
      ],
      "metadata": {
        "id": "Hl8OqjFWOgbN"
      }
    },
    {
      "cell_type": "code",
      "source": [
        "file_path = \"/content/CreditCard.csv\"\n",
        "df_new = pd.read_csv(file_path)"
      ],
      "metadata": {
        "id": "gy29HHBQqeTk"
      },
      "execution_count": 405,
      "outputs": []
    },
    {
      "cell_type": "code",
      "source": [
        "import pandas as pd\n",
        "import numpy as np\n",
        "from sklearn.model_selection import train_test_split\n",
        "\n",
        "seed_value_new = 143\n",
        "\n",
        "# Splitting the dataset into training (60%) and validation (40%) sets\n",
        "train_set_new, test_set_new = train_test_split(df_new, test_size=0.4, random_state=seed_value_new)\n",
        "\n",
        "print(f\"Training set size: {train_set_new.shape[0]} records\")\n",
        "print(f\"Validation set size: {test_set_new.shape[0]} records\")"
      ],
      "metadata": {
        "colab": {
          "base_uri": "https://localhost:8080/"
        },
        "id": "uDt5JEGyrYhI",
        "outputId": "92f1093a-ce74-417c-9beb-a12dd4cb8a61"
      },
      "execution_count": 406,
      "outputs": [
        {
          "output_type": "stream",
          "name": "stdout",
          "text": [
            "Training set size: 791 records\n",
            "Validation set size: 528 records\n"
          ]
        }
      ]
    },
    {
      "cell_type": "code",
      "source": [
        "numerical_columns_new = train_set_new.select_dtypes(include=['number']).drop(columns=['income'])\n",
        "correlation_matrix_new = numerical_columns_new.corr()\n",
        "\n",
        "plt.figure(figsize=(10, 6))\n",
        "sns.heatmap(correlation_matrix_new, annot=True, cmap=\"coolwarm\", fmt=\".2f\", linewidths=0.5)\n",
        "plt.title(\"Correlation Heatmap (Excluding Target Variable 'Income')\")\n",
        "plt.show()\n"
      ],
      "metadata": {
        "colab": {
          "base_uri": "https://localhost:8080/",
          "height": 614
        },
        "id": "a2cZM6X7ryjH",
        "outputId": "af1d849f-29d2-4b86-90df-a36f0a8147bf"
      },
      "execution_count": 407,
      "outputs": [
        {
          "output_type": "display_data",
          "data": {
            "text/plain": [
              "<Figure size 1000x600 with 2 Axes>"
            ],
            "image/png": "[encoded data removed]"
          },
          "metadata": {}
        }
      ]
    },
    {
      "cell_type": "markdown",
      "source": [
        "Yes, multicollinearity could be an issue here. From your correlation heatmap, it appears that \"expenditure\" is strongly correlated with \"share\" (correlation ≈ 0.84)."
      ],
      "metadata": {
        "id": "iB_BqSw1s7ev"
      }
    },
    {
      "cell_type": "code",
      "source": [
        "# Remove \"expenditure\" from the training set\n",
        "train_set_new = train_set_new.drop(columns=['expenditure'])\n",
        "\n",
        "print(\"Updated training set after removing 'expenditure':\")\n",
        "print(train_set_new.head())"
      ],
      "metadata": {
        "colab": {
          "base_uri": "https://localhost:8080/"
        },
        "id": "Slcex43Bs8EU",
        "outputId": "6e0840c2-8d50-4c79-dab0-18c3cb2f7e19"
      },
      "execution_count": 408,
      "outputs": [
        {
          "output_type": "stream",
          "name": "stdout",
          "text": [
            "Updated training set after removing 'expenditure':\n",
            "      rownames card  reports       age  income     share owner selfemp  \\\n",
            "103        104  yes        0  25.16667   1.800  0.098482    no      no   \n",
            "714        715   no        0  27.08333   2.000  0.000600    no      no   \n",
            "1310      1311  yes        0  30.58333   2.512  0.002627    no     yes   \n",
            "54          55  yes        0  25.75000   2.400  0.020720    no      no   \n",
            "500        501  yes        0  31.83333   4.075  0.007014   yes      no   \n",
            "\n",
            "      dependents  months  majorcards  active  \n",
            "103            0       1           0       9  \n",
            "714            0      24           1       4  \n",
            "1310           3      36           0       4  \n",
            "54             0      34           1       2  \n",
            "500            1     101           1       9  \n"
          ]
        }
      ]
    },
    {
      "cell_type": "markdown",
      "source": [
        "I removed \"expenditure\" because it had a strong correlation (~0.84) with \"share\", indicating multicollinearity. When two predictor variables are highly correlated, they provide redundant information, which can lead to Inflated standard errors and Difficulty in interpreting the model."
      ],
      "metadata": {
        "id": "O0E34AD0tUzh"
      }
    },
    {
      "cell_type": "code",
      "source": [
        "import statsmodels.api as sm\n",
        "\n",
        "# Use only \"dependents\" as predictor\n",
        "X_check = train_set_new[[\"dependents\"]]\n",
        "X_check = sm.add_constant(X_check)  # Add intercept\n",
        "y_check = train_set_new[\"income\"]\n",
        "\n",
        "# Fit the regression model\n",
        "model_check = sm.OLS(y_check, X_check).fit()\n",
        "\n",
        "# Print the summary to compare R-squared values\n",
        "print(model_check.summary())"
      ],
      "metadata": {
        "colab": {
          "base_uri": "https://localhost:8080/"
        },
        "id": "SJ1cvnEitbZi",
        "outputId": "6906c198-c921-4c03-8301-dfa8519a18f2"
      },
      "execution_count": 409,
      "outputs": [
        {
          "output_type": "stream",
          "name": "stdout",
          "text": [
            "                            OLS Regression Results                            \n",
            "==============================================================================\n",
            "Dep. Variable:                 income   R-squared:                       0.128\n",
            "Model:                            OLS   Adj. R-squared:                  0.126\n",
            "Method:                 Least Squares   F-statistic:                     115.4\n",
            "Date:                Fri, 21 Feb 2025   Prob (F-statistic):           3.27e-25\n",
            "Time:                        23:58:11   Log-Likelihood:                -1514.8\n",
            "No. Observations:                 791   AIC:                             3034.\n",
            "Df Residuals:                     789   BIC:                             3043.\n",
            "Df Model:                           1                                         \n",
            "Covariance Type:            nonrobust                                         \n",
            "==============================================================================\n",
            "                 coef    std err          t      P>|t|      [0.025      0.975]\n",
            "------------------------------------------------------------------------------\n",
            "const          2.8754      0.074     38.655      0.000       2.729       3.021\n",
            "dependents     0.4914      0.046     10.741      0.000       0.402       0.581\n",
            "==============================================================================\n",
            "Omnibus:                      317.616   Durbin-Watson:                   1.974\n",
            "Prob(Omnibus):                  0.000   Jarque-Bera (JB):             1318.486\n",
            "Skew:                           1.864   Prob(JB):                    4.95e-287\n",
            "Kurtosis:                       8.109   Cond. No.                         2.44\n",
            "==============================================================================\n",
            "\n",
            "Notes:\n",
            "[1] Standard Errors assume that the covariance matrix of the errors is correctly specified.\n"
          ]
        }
      ]
    },
    {
      "cell_type": "markdown",
      "source": [
        "\n",
        "\n",
        "---\n",
        "\n"
      ],
      "metadata": {
        "id": "DvQ042n-ReSX"
      }
    },
    {
      "cell_type": "markdown",
      "source": [
        "2.2.1)"
      ],
      "metadata": {
        "id": "Heu_3KoouvSM"
      }
    },
    {
      "cell_type": "code",
      "source": [
        "income_mean = train_set_new[\"income\"].mean()\n",
        "sst = ((train_set_new[\"income\"] - income_mean) ** 2).sum()\n",
        "\n",
        "print(f\"Total Sum of Squares (SST): {sst}\")"
      ],
      "metadata": {
        "colab": {
          "base_uri": "https://localhost:8080/"
        },
        "id": "nY3aOjmIuwWA",
        "outputId": "12070cf2-bc58-4c62-b852-a676b9105f3f"
      },
      "execution_count": 410,
      "outputs": [
        {
          "output_type": "stream",
          "name": "stdout",
          "text": [
            "Total Sum of Squares (SST): 2445.696442067257\n"
          ]
        }
      ]
    },
    {
      "cell_type": "code",
      "source": [
        "fitted_values = final_model_new.fittedvalues\n",
        "ssr = ((fitted_values - income_mean) ** 2).sum()\n",
        "\n",
        "print(f\"Total Sum of Squares due to Regression (SSR): {ssr}\")\n"
      ],
      "metadata": {
        "colab": {
          "base_uri": "https://localhost:8080/"
        },
        "id": "OvhpQk1Zvkk7",
        "outputId": "8474f565-95b5-40fd-b5f2-bdfb2d86cec2"
      },
      "execution_count": 414,
      "outputs": [
        {
          "output_type": "stream",
          "name": "stdout",
          "text": [
            "Total Sum of Squares due to Regression (SSR): 533.3779670233478\n"
          ]
        }
      ]
    },
    {
      "cell_type": "code",
      "source": [
        "#SST (Total Sum of Squares)\n",
        "sst = ((train_set_new[\"income\"] - income_mean) ** 2).sum()\n",
        "\n",
        "#SSR (Sum of Squares for Regression)\n",
        "ssr = ((final_model_new.fittedvalues - income_mean) ** 2).sum()\n",
        "\n",
        "#SSR/SST\n",
        "r_squared = ssr / sst\n",
        "\n",
        "print(f\"SSR/SST (R-squared): {r_squared}\")"
      ],
      "metadata": {
        "colab": {
          "base_uri": "https://localhost:8080/"
        },
        "id": "pFyrqKJPyP-S",
        "outputId": "7a45cb64-c504-480a-a2a9-0eda0c1656e1"
      },
      "execution_count": 415,
      "outputs": [
        {
          "output_type": "stream",
          "name": "stdout",
          "text": [
            "SSR/SST (R-squared): 0.2180883767294125\n"
          ]
        }
      ]
    },
    {
      "cell_type": "markdown",
      "source": [
        "The SSR/SST ratio is the R-squared (R²) value, which is already displayed in the OLS Regression"
      ],
      "metadata": {
        "id": "FSoHE2YIybxk"
      }
    },
    {
      "cell_type": "code",
      "source": [
        "# Choosing a predictor, e.g., \"age\"\n",
        "predictor_name = \"age\"\n",
        "t_value = final_model_new.tvalues[predictor_name]\n",
        "\n",
        "print(f\"T-value for {predictor_name}: {t_value}\")"
      ],
      "metadata": {
        "colab": {
          "base_uri": "https://localhost:8080/"
        },
        "id": "910d9G_mycVg",
        "outputId": "aa207b65-819f-455a-a56d-1be19f1d39f9"
      },
      "execution_count": 416,
      "outputs": [
        {
          "output_type": "stream",
          "name": "stdout",
          "text": [
            "T-value for age: 7.421974118116926\n"
          ]
        }
      ]
    },
    {
      "cell_type": "code",
      "source": [
        "f_statistic = final_model_new.fvalue\n",
        "\n",
        "print(f\"Model's F-statistic: {f_statistic}\")"
      ],
      "metadata": {
        "colab": {
          "base_uri": "https://localhost:8080/"
        },
        "id": "ajH_gtjAyzPO",
        "outputId": "f23297e7-0956-48a0-e1f0-833b64d982d1"
      },
      "execution_count": 417,
      "outputs": [
        {
          "output_type": "stream",
          "name": "stdout",
          "text": [
            "Model's F-statistic: 54.8071735371806\n"
          ]
        }
      ]
    },
    {
      "cell_type": "markdown",
      "source": [
        "- The F-statistic tests whether at least one of our independent variables is significantly related to the dependent variable (income).\n",
        "- A higher F-statistic indicates that the model explains more variance in the dependent variable relative to random chance.\n",
        "- The p-value associated with the F-statistic (Prob > F) in our summary is likely very low (< 0.05), meaning your model is statistically significant."
      ],
      "metadata": {
        "id": "f1MbVt6AzN5r"
      }
    },
    {
      "cell_type": "code",
      "source": [
        "def predict_income(age, dependents, majorcards, active):\n",
        "    intercept = 0.9626\n",
        "    beta_age = 0.0420\n",
        "    beta_dependents = 0.4183\n",
        "    beta_majorcards = 0.5158\n",
        "    beta_active = 0.0258\n",
        "\n",
        "    predicted_income = (\n",
        "        intercept +\n",
        "        beta_age * age +\n",
        "        beta_dependents * dependents +\n",
        "        beta_majorcards * majorcards +\n",
        "        beta_active * active\n",
        "    )\n",
        "\n",
        "    return predicted_income\n",
        "\n",
        "# Predict income for the fictional consumer\n",
        "fictional_income = predict_income(age=35, dependents=2, majorcards=1, active=3)\n",
        "\n",
        "print(f\"Predicted Income: {fictional_income}\")"
      ],
      "metadata": {
        "colab": {
          "base_uri": "https://localhost:8080/"
        },
        "id": "QfDqctZkzVRN",
        "outputId": "6fa9525a-57f4-420e-cd46-fc20e83d61f5"
      },
      "execution_count": 418,
      "outputs": [
        {
          "output_type": "stream",
          "name": "stdout",
          "text": [
            "Predicted Income: 3.8624000000000005\n"
          ]
        }
      ]
    },
    {
      "cell_type": "markdown",
      "source": [
        "Here,\n",
        "I assumed the consumer has the attributes like:\n",
        "\n",
        "Age - 35\n",
        "\n",
        "Dependantts - 2\n",
        "\n",
        "Majorcards - 1\n",
        "\n",
        "Active - 3\n",
        "\n",
        "The predicted income calculation now will be:\n",
        "\n",
        "0.9626+(0.0420×35)+(0.4183×2)+(0.5158×1)+(0.0258×3)\n",
        "\n",
        "= 0.9626+1.47+0.8366+0.5158+0.0774\n",
        "\n",
        "hence, income = 3.8624\n",
        "\n",
        "So, the predicted income for this person is approximately $38,624."
      ],
      "metadata": {
        "id": "8Wvptt7jzw_B"
      }
    },
    {
      "cell_type": "code",
      "source": [
        "from sklearn.metrics import mean_squared_error, r2_score\n",
        "import numpy as np\n",
        "\n",
        "# Select only the features used in the final model\n",
        "selected_features = final_model_new.model.exog_names\n",
        "selected_features.remove(\"const\")\n",
        "\n",
        "# Compute predictions\n",
        "train_predictions = final_model_new.predict(sm.add_constant(train_set_new[selected_features]))\n",
        "validation_predictions = final_model_new.predict(sm.add_constant(test_set_new[selected_features]))\n",
        "\n",
        "# Compute RMSE and R² for Training and Validation Sets\n",
        "train_rmse = np.sqrt(mean_squared_error(train_set_new[\"income\"], train_predictions))\n",
        "validation_rmse = np.sqrt(mean_squared_error(test_set_new[\"income\"], validation_predictions))\n",
        "\n",
        "train_r2 = r2_score(train_set_new[\"income\"], train_predictions)\n",
        "validation_r2 = r2_score(test_set_new[\"income\"], validation_predictions)\n",
        "\n",
        "# Print Results\n",
        "print(f\"Training Set - RMSE: {train_rmse}, R²: {train_r2}\")\n",
        "print(f\"Validation Set - RMSE: {validation_rmse}, R²: {validation_r2}\")"
      ],
      "metadata": {
        "colab": {
          "base_uri": "https://localhost:8080/"
        },
        "id": "Zuo0xrBh0cWL",
        "outputId": "a9009760-5513-498a-93ab-0745472e0b3d"
      },
      "execution_count": 419,
      "outputs": [
        {
          "output_type": "stream",
          "name": "stdout",
          "text": [
            "Training Set - RMSE: 1.5548620676317846, R²: 0.21808837672941284\n",
            "Validation Set - RMSE: 1.4869620751936237, R²: 0.12617933650242952\n"
          ]
        }
      ]
    },
    {
      "cell_type": "markdown",
      "source": [
        "1) Findings on Model Performance:\n",
        "\n",
        "- The R² value for training (0.218) is slightly higher than for validation (0.126), indicating that the model explains only a small portion of the variance in income.\n",
        "\n",
        "- RMSE values are similar (Training: 1.55, Validation: 1.49), showing consistency but low predictive power.\n",
        "\n",
        "- The model is not highly accurate, meaning other important factors influencing income might be missing.\n",
        "\n",
        "2) Overfitting Risk & MLR vs. SLR Accuracy:\n",
        "\n",
        "- The drop in R² from training to validation suggests mild overfitting, meaning the model captures training patterns better than unseen data.\n",
        "- The MLR model (multiple linear regression) performed slightly better than the SLR model (single linear regression using dependents) in terms of R², but both models had low accuracy.\n",
        "- The MLR model included multiple predictors, improving R² from 0.128 (SLR) to 0.218, but it still does not generalize well.\n",
        "\n",
        "3) Limitations of Predicting Income with Available Variables:\n",
        "\n",
        "- The dataset lacks key income-related factors like education level, job industry, work experience, and economic conditions.\n",
        "- Many real-world income determinants are not captured in this dataset, limiting its predictive accuracy.\n",
        "- The model assumes a linear relationship, which may not be the best fit for income prediction."
      ],
      "metadata": {
        "id": "ui7NFRWR1whV"
      }
    },
    {
      "cell_type": "markdown",
      "source": [
        "\n",
        "\n",
        "---\n",
        "\n"
      ],
      "metadata": {
        "id": "nRsOdyKV26t0"
      }
    }
  ]
}